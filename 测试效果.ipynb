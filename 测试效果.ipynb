{
 "cells": [
  {
   "cell_type": "code",
   "execution_count": 23,
   "metadata": {},
   "outputs": [
    {
     "name": "stderr",
     "output_type": "stream",
     "text": [
      "C:\\Users\\zhangyh4\\AppData\\Local\\Continuum\\anaconda3\\lib\\site-packages\\gensim\\utils.py:1197: UserWarning: detected Windows; aliasing chunkize to chunkize_serial\n",
      "  warnings.warn(\"detected Windows; aliasing chunkize to chunkize_serial\")\n"
     ]
    }
   ],
   "source": [
    "import random\n",
    "import pandas as pd\n",
    "import jieba\n",
    "import time\n",
    "from sklearn import svm\n",
    "from xgboost import XGBClassifier\n",
    "from sklearn.naive_bayes import MultinomialNB\n",
    "from sklearn.naive_bayes import GaussianNB\n",
    "from sklearn.externals import joblib\n",
    "from numpy import * # 要用到delete操作\n",
    "import numpy as np\n",
    "from collections import defaultdict,Counter\n",
    "import math\n",
    "from gensim import corpora,models\n",
    "from scipy.sparse import csr_matrix\n",
    "import pickle as pkl\n",
    "# 不打印警告信息\n",
    "import warnings\n",
    "warnings.filterwarnings('ignore')"
   ]
  },
  {
   "cell_type": "markdown",
   "metadata": {},
   "source": [
    "### 方法一：取出目录中所有的文件"
   ]
  },
  {
   "cell_type": "code",
   "execution_count": 8,
   "metadata": {},
   "outputs": [],
   "source": [
    "\n",
    "import os\n",
    "\n",
    "def file_name(file_dir):\n",
    "    file = []\n",
    "    for root,dirs,files in os.walk(file_dir):\n",
    "        return files\n",
    "file_list = file_name(r'C:\\Users\\zhangyh4\\Desktop\\xietong1012\\model')"
   ]
  },
  {
   "cell_type": "code",
   "execution_count": 9,
   "metadata": {},
   "outputs": [
    {
     "data": {
      "text/plain": [
       "7459"
      ]
     },
     "execution_count": 9,
     "metadata": {},
     "output_type": "execute_result"
    }
   ],
   "source": [
    "len(file_list)"
   ]
  },
  {
   "cell_type": "markdown",
   "metadata": {},
   "source": [
    "### 方法二：取出目录中的指定文件"
   ]
  },
  {
   "cell_type": "code",
   "execution_count": 16,
   "metadata": {},
   "outputs": [],
   "source": [
    "import os\n",
    "\n",
    "file_dir = r'C:\\Users\\zhangyh4\\Desktop\\xietong1012\\model'\n",
    "bayes_list = []\n",
    "svm_list = []\n",
    "xgboost_list = []\n",
    "for root,dirs,files in os.walk(file_dir):\n",
    "    for file in files:\n",
    "        if os.path.splitext(file)[0] == 'bayes':\n",
    "            bayes_list.append(os.path.join(root,file))\n",
    "        elif os.path.splitext(file)[0] == 'svm':\n",
    "            svm_list.append(os.path.join(root,file))\n",
    "        elif os.path.splitext(file)[0] == 'xgboost':\n",
    "            xgboost_list.append(os.path.join(root,file))\n"
   ]
  },
  {
   "cell_type": "code",
   "execution_count": 19,
   "metadata": {},
   "outputs": [
    {
     "data": {
      "text/plain": [
       "['C:\\\\Users\\\\zhangyh4\\\\Desktop\\\\xietong1012\\\\model\\\\bayes.joblib_161006']"
      ]
     },
     "execution_count": 19,
     "metadata": {},
     "output_type": "execute_result"
    }
   ],
   "source": [
    "bayes_list[:1]"
   ]
  },
  {
   "cell_type": "markdown",
   "metadata": {},
   "source": [
    "### 测试模型效果并打印"
   ]
  },
  {
   "cell_type": "code",
   "execution_count": 24,
   "metadata": {},
   "outputs": [],
   "source": [
    "sum_data = pd.read_csv(r\"testdata.txt\",names=['label','lines'],sep='\\t',encoding='utf-8')"
   ]
  },
  {
   "cell_type": "code",
   "execution_count": 25,
   "metadata": {},
   "outputs": [
    {
     "data": {
      "text/html": [
       "<div>\n",
       "<style scoped>\n",
       "    .dataframe tbody tr th:only-of-type {\n",
       "        vertical-align: middle;\n",
       "    }\n",
       "\n",
       "    .dataframe tbody tr th {\n",
       "        vertical-align: top;\n",
       "    }\n",
       "\n",
       "    .dataframe thead th {\n",
       "        text-align: right;\n",
       "    }\n",
       "</style>\n",
       "<table border=\"1\" class=\"dataframe\">\n",
       "  <thead>\n",
       "    <tr style=\"text-align: right;\">\n",
       "      <th></th>\n",
       "      <th>label</th>\n",
       "      <th>lines</th>\n",
       "    </tr>\n",
       "  </thead>\n",
       "  <tbody>\n",
       "    <tr>\n",
       "      <th>0</th>\n",
       "      <td>1</td>\n",
       "      <td>尚贤 哆啦A梦最爱吃的的铜锣烧428g      金黄饼皮，浓浓馅料，松软下的红豆爆浆，...</td>\n",
       "    </tr>\n",
       "    <tr>\n",
       "      <th>1</th>\n",
       "      <td>1</td>\n",
       "      <td>秋冬韩版长款加厚百搭两用针织围脖原    价：【35.0】元券后【25元】包邮秒杀优质的面料...</td>\n",
       "    </tr>\n",
       "    <tr>\n",
       "      <th>2</th>\n",
       "      <td>1</td>\n",
       "      <td>还有价值8300元的神秘大礼包    啊！    转发此条说说积攒38个，晚会当天可换取精品...</td>\n",
       "    </tr>\n",
       "    <tr>\n",
       "      <th>3</th>\n",
       "      <td>1</td>\n",
       "      <td>三缺一电玩 首次注册送20W!oiavf捕鱼棋牌老虎机样样有真正能赢钱的平台！满130万=1...</td>\n",
       "    </tr>\n",
       "    <tr>\n",
       "      <th>4</th>\n",
       "      <td>1</td>\n",
       "      <td>【彩缤儿】2件装无钢圈无痕运动内衣美背式运动文胸2件装，亲肤舒适，无钢圈设计，交叉肩带，...</td>\n",
       "    </tr>\n",
       "  </tbody>\n",
       "</table>\n",
       "</div>"
      ],
      "text/plain": [
       "   label                                              lines\n",
       "0      1  尚贤 哆啦A梦最爱吃的的铜锣烧428g      金黄饼皮，浓浓馅料，松软下的红豆爆浆，...\n",
       "1      1  秋冬韩版长款加厚百搭两用针织围脖原    价：【35.0】元券后【25元】包邮秒杀优质的面料...\n",
       "2      1  还有价值8300元的神秘大礼包    啊！    转发此条说说积攒38个，晚会当天可换取精品...\n",
       "3      1  三缺一电玩 首次注册送20W!oiavf捕鱼棋牌老虎机样样有真正能赢钱的平台！满130万=1...\n",
       "4      1  【彩缤儿】2件装无钢圈无痕运动内衣美背式运动文胸2件装，亲肤舒适，无钢圈设计，交叉肩带，..."
      ]
     },
     "execution_count": 25,
     "metadata": {},
     "output_type": "execute_result"
    }
   ],
   "source": [
    "sum_data.head()"
   ]
  },
  {
   "cell_type": "code",
   "execution_count": 26,
   "metadata": {},
   "outputs": [
    {
     "name": "stderr",
     "output_type": "stream",
     "text": [
      "Building prefix dict from the default dictionary ...\n",
      "Loading model from cache C:\\Users\\zhangyh4\\AppData\\Local\\Temp\\jieba.cache\n",
      "Loading model cost 0.754 seconds.\n",
      "Prefix dict has been built succesfully.\n"
     ]
    }
   ],
   "source": [
    "import jieba\n",
    "from gensim import corpora\n",
    "from gensim import models\n",
    "import time\n",
    "# start = time.clock()\n",
    "\n",
    "# 去掉文本中的空格\n",
    "def process(our_data):\n",
    "    m1 = map(lambda s:s.replace(' ',''),our_data)\n",
    "    return list(m1)\n",
    "\n",
    "# 让文本只保留汉字\n",
    "def is_chinese(uchar):\n",
    "    if uchar >= u'\\u4e00' and uchar <= u'\\u9fa5':\n",
    "        return True\n",
    "    else:\n",
    "        return False\n",
    "    \n",
    "def format_str(content):\n",
    "    content_str = ''\n",
    "    for i in content:\n",
    "        if is_chinese(i):\n",
    "            content_str = content_str +ｉ\n",
    "    return content_str \n",
    "\n",
    "# 对文本进行jieba分词\n",
    "def fenci(datas):\n",
    "    cut_words=map(lambda s:list(jieba.cut(s)),datas)\n",
    "    return list(cut_words)\n",
    "\n",
    "# 读取停用词表\n",
    "stopwords=pd.read_csv('stopwords.txt',index_col=False,sep=\"\\n\",quoting=3,names=['stopword'],encoding='utf-8')\n",
    "\n",
    "# 去掉文本中的停用词\n",
    "def drop_stopwords(contents,stopwords):\n",
    "    contents_clean = []\n",
    "    for line in contents:\n",
    "        line_clean = []\n",
    "        for word in line:\n",
    "            if word in stopwords:\n",
    "                continue\n",
    "            line_clean.append(word)\n",
    "        contents_clean.append(line_clean)\n",
    "    return contents_clean\n",
    "\n",
    "train_data = process(sum_data.lines.values)\n",
    "\n",
    "chinese_list = []\n",
    "for line in train_data:\n",
    "    chinese_list.append(format_str(line))\n",
    "    \n",
    "df_content=pd.DataFrame({'content_S':chinese_list,'label':sum_data['label']})\n",
    "content_s = fenci(df_content.content_S.values)\n",
    "data_content=pd.DataFrame({'content':content_s})\n",
    "\n",
    "contents = data_content.content.values.tolist()\n",
    "stopwords = stopwords.stopword.values.tolist()\n",
    "contents_clean = drop_stopwords(contents,stopwords)\n",
    "\n",
    "df_data=pd.DataFrame({'contents_clean':contents_clean,'label':sum_data[\"label\"]})\n",
    "word_list = list(df_data.contents_clean.values)\n",
    "\n",
    "# 将文本处理成tfidf可训练的格式\n",
    "words = []\n",
    "for line_index in range(len(word_list)):\n",
    "    words.append(' '.join(word_list[line_index]))\n",
    "\n",
    "word_list = []\n",
    "for i in range(len(words)):\n",
    "    word_list.append(words[i].split(' '))\n",
    "\n",
    "\n",
    "dictionary = corpora.Dictionary(word_list)\n",
    "new_corpus = [dictionary.doc2bow(text) for text in word_list]\n",
    "tfidf = models.TfidfModel(new_corpus)\n",
    "\n",
    "tfidf_vec = []\n",
    "for i in range(len(words)):\n",
    "    string = words[i]\n",
    "    string_bow = dictionary.doc2bow(string.split())\n",
    "    string_tfidf = tfidf[string_bow]\n",
    "    tfidf_vec.append(string_tfidf)\n",
    "\n",
    "lsi_model = models.LsiModel(corpus = tfidf_vec,id2word = dictionary,num_topics=30)\n",
    "\n",
    "lsi_vec = []\n",
    "for i in range(len(words)):\n",
    "    string = words[i]\n",
    "    string_bow = dictionary.doc2bow(string.split())\n",
    "    string_lsi = lsi_model[string_bow]\n",
    "    lsi_vec.append(string_lsi)\n",
    "\n",
    "\n",
    "data = []\n",
    "rows = []\n",
    "cols = []\n",
    "line_count = 0\n",
    "for line in lsi_vec:\n",
    "    for elem in line:\n",
    "        rows.append(line_count)\n",
    "        cols.append(elem[0])\n",
    "        data.append(elem[1])\n",
    "    line_count += 1\n",
    "lsi_sparse_matrix = csr_matrix((data,(rows,cols))) # 稀疏向量\n",
    "lsi_matrix = lsi_sparse_matrix.toarray() # 密集向量\n"
   ]
  },
  {
   "cell_type": "code",
   "execution_count": 27,
   "metadata": {},
   "outputs": [
    {
     "data": {
      "text/plain": [
       "5000"
      ]
     },
     "execution_count": 27,
     "metadata": {},
     "output_type": "execute_result"
    }
   ],
   "source": [
    "x_test = list(lsi_matrix)\n",
    "len(x_test)"
   ]
  },
  {
   "cell_type": "code",
   "execution_count": 28,
   "metadata": {},
   "outputs": [],
   "source": [
    "from sklearn import metrics\n",
    "from sklearn.metrics import precision_score"
   ]
  },
  {
   "cell_type": "markdown",
   "metadata": {},
   "source": [
    "### svm"
   ]
  },
  {
   "cell_type": "code",
   "execution_count": 71,
   "metadata": {},
   "outputs": [
    {
     "data": {
      "text/plain": [
       "4336"
      ]
     },
     "execution_count": 71,
     "metadata": {},
     "output_type": "execute_result"
    }
   ],
   "source": [
    "len(svm_list)"
   ]
  },
  {
   "cell_type": "code",
   "execution_count": 72,
   "metadata": {},
   "outputs": [
    {
     "data": {
      "image/png": "[encoded data removed]",
      "text/plain": [
       "<matplotlib.figure.Figure at 0x25ffb7f0>"
      ]
     },
     "metadata": {},
     "output_type": "display_data"
    }
   ],
   "source": [
    "svm_index = []\n",
    "for i in range(4336):\n",
    "    if i % 50 == 0:\n",
    "        svm_index.append(i)\n",
    "\n",
    "new_svm_list = []\n",
    "for i in svm_index:\n",
    "    new_svm_list.append(svm_list[i])\n",
    "    \n",
    "y_True = list(sum_data.label.values)\n",
    "def pred_func(file_dir,y_true):\n",
    "    model = joblib.load(file_dir)\n",
    "    y_pred = model.predict(x_test)\n",
    "    y_pred = list(y_pred)\n",
    "    pred_score = precision_score(y_true,y_pred,average='weighted')\n",
    "    return pred_score\n",
    "\n",
    "svm_score = []\n",
    "for i in range(len(new_svm_list)):\n",
    "    svm_score.append(pred_func(new_svm_list[i],y_True))\n",
    "    \n",
    "x = svm_score\n",
    "y = range(len(x))\n",
    "\n",
    "fig = plt.figure()\n",
    "ax = fig.add_subplot(1,1,1)\n",
    "ax.plot(y,x)\n",
    "plt.xlabel('x')\n",
    "plt.ylabel('y')\n",
    "plt.legend(['line1'])\n",
    "plt.show()"
   ]
  },
  {
   "cell_type": "code",
   "execution_count": 74,
   "metadata": {},
   "outputs": [
    {
     "data": {
      "text/plain": [
       "0.621426771534017"
      ]
     },
     "execution_count": 74,
     "metadata": {},
     "output_type": "execute_result"
    }
   ],
   "source": [
    "max(svm_score)"
   ]
  },
  {
   "cell_type": "code",
   "execution_count": null,
   "metadata": {},
   "outputs": [],
   "source": []
  },
  {
   "cell_type": "markdown",
   "metadata": {},
   "source": [
    "### bayes"
   ]
  },
  {
   "cell_type": "code",
   "execution_count": 75,
   "metadata": {},
   "outputs": [
    {
     "data": {
      "text/plain": [
       "2084"
      ]
     },
     "execution_count": 75,
     "metadata": {},
     "output_type": "execute_result"
    }
   ],
   "source": [
    "len(bayes_list)"
   ]
  },
  {
   "cell_type": "code",
   "execution_count": 76,
   "metadata": {},
   "outputs": [
    {
     "data": {
      "image/png": "[encoded data removed]",
      "text/plain": [
       "<matplotlib.figure.Figure at 0x2628a048>"
      ]
     },
     "metadata": {},
     "output_type": "display_data"
    }
   ],
   "source": [
    "bayes_index = []\n",
    "for i in range(2084):\n",
    "    if i % 20 == 0:\n",
    "        bayes_index.append(i)\n",
    "        \n",
    "new_bayes_list = []\n",
    "for i in bayes_index:\n",
    "    new_bayes_list.append(bayes_list[i])\n",
    "    \n",
    "y_True = list(sum_data.label.values)\n",
    "def pred_func(file_dir,y_true):\n",
    "    model = joblib.load(file_dir)\n",
    "    y_pred = model.predict(x_test)\n",
    "    y_pred = list(y_pred)\n",
    "    pred_score = precision_score(y_true,y_pred,average='weighted')\n",
    "    return pred_score\n",
    "\n",
    "bayes_score = []\n",
    "for i in range(len(new_bayes_list)):\n",
    "    bayes_score.append(pred_func(new_bayes_list[i],y_True))\n",
    "    \n",
    "x = bayes_score\n",
    "y = range(len(x))\n",
    "\n",
    "fig = plt.figure()\n",
    "ax = fig.add_subplot(1,1,1)\n",
    "ax.plot(y,x)\n",
    "plt.xlabel('x')\n",
    "plt.ylabel('y')\n",
    "plt.legend(['line1'])\n",
    "plt.show()"
   ]
  },
  {
   "cell_type": "code",
   "execution_count": 77,
   "metadata": {},
   "outputs": [
    {
     "data": {
      "text/plain": [
       "0.6737846016893565"
      ]
     },
     "execution_count": 77,
     "metadata": {},
     "output_type": "execute_result"
    }
   ],
   "source": [
    "max(bayes_score)"
   ]
  },
  {
   "cell_type": "code",
   "execution_count": null,
   "metadata": {},
   "outputs": [],
   "source": []
  },
  {
   "cell_type": "markdown",
   "metadata": {},
   "source": [
    "### xgboost"
   ]
  },
  {
   "cell_type": "code",
   "execution_count": 78,
   "metadata": {},
   "outputs": [
    {
     "data": {
      "text/plain": [
       "1056"
      ]
     },
     "execution_count": 78,
     "metadata": {},
     "output_type": "execute_result"
    }
   ],
   "source": [
    "len(xgboost_list)"
   ]
  },
  {
   "cell_type": "code",
   "execution_count": 79,
   "metadata": {},
   "outputs": [
    {
     "data": {
      "image/png": "[encoded data removed]",
      "text/plain": [
       "<matplotlib.figure.Figure at 0x26356518>"
      ]
     },
     "metadata": {},
     "output_type": "display_data"
    }
   ],
   "source": [
    "xgboost_index = []\n",
    "for i in range(len(xgboost_list)):\n",
    "    if i % 10 == 0:\n",
    "        xgboost_index.append(i)\n",
    "        \n",
    "new_xgboost_list = []\n",
    "for i in xgboost_index:\n",
    "    new_xgboost_list.append(xgboost_list[i])\n",
    "    \n",
    "y_True = list(sum_data.label.values)\n",
    "def pred_func(file_dir,y_true):\n",
    "    model = joblib.load(file_dir)\n",
    "    y_pred = model.predict(x_test)\n",
    "    y_pred = list(y_pred)\n",
    "    pred_score = precision_score(y_true,y_pred,average='weighted')\n",
    "    return pred_score\n",
    "\n",
    "xgboost_score = []\n",
    "for i in range(len(new_xgboost_list)):\n",
    "    xgboost_score.append(pred_func(new_xgboost_list[i],y_True))\n",
    "\n",
    "x = xgboost_score\n",
    "y = range(len(x))\n",
    "\n",
    "fig = plt.figure()\n",
    "ax = fig.add_subplot(1,1,1)\n",
    "ax.plot(y,x)\n",
    "plt.xlabel('x')\n",
    "plt.ylabel('y')\n",
    "plt.legend(['line1'])\n",
    "plt.show()"
   ]
  },
  {
   "cell_type": "code",
   "execution_count": 80,
   "metadata": {},
   "outputs": [
    {
     "data": {
      "text/plain": [
       "0.7545448248656177"
      ]
     },
     "execution_count": 80,
     "metadata": {},
     "output_type": "execute_result"
    }
   ],
   "source": [
    "max(xgboost_score)"
   ]
  },
  {
   "cell_type": "code",
   "execution_count": null,
   "metadata": {},
   "outputs": [],
   "source": []
  },
  {
   "cell_type": "code",
   "execution_count": null,
   "metadata": {},
   "outputs": [],
   "source": []
  },
  {
   "cell_type": "code",
   "execution_count": null,
   "metadata": {},
   "outputs": [],
   "source": []
  },
  {
   "cell_type": "code",
   "execution_count": null,
   "metadata": {},
   "outputs": [],
   "source": []
  },
  {
   "cell_type": "code",
   "execution_count": 13,
   "metadata": {},
   "outputs": [
    {
     "data": {
      "text/plain": [
       "0.7604906959076174"
      ]
     },
     "execution_count": 13,
     "metadata": {},
     "output_type": "execute_result"
    }
   ],
   "source": [
    "\n",
    "file = r'C:\\Users\\zhangyh4\\Desktop\\xietong1016\\model\\xgboost.joblib_161006'\n",
    "svm_model = joblib.load(file)\n",
    "y_svm_pred = svm_model.predict(x_test)\n",
    "y_true = list(sum_data.label.values)\n",
    "y_pred = list(y_svm_pred)\n",
    "precision_score(y_true,y_pred,average='weighted')"
   ]
  },
  {
   "cell_type": "code",
   "execution_count": 15,
   "metadata": {},
   "outputs": [
    {
     "data": {
      "text/plain": [
       "0.6887115928021272"
      ]
     },
     "execution_count": 15,
     "metadata": {},
     "output_type": "execute_result"
    }
   ],
   "source": [
    "file = r'C:\\Users\\zhangyh4\\Desktop\\xietong1016\\model\\xgboost.joblib_190944'\n",
    "svm_model = joblib.load(file)\n",
    "y_svm_pred = svm_model.predict(x_test)\n",
    "y_true = list(sum_data.label.values)\n",
    "y_pred = list(y_svm_pred)\n",
    "precision_score(y_true,y_pred,average='weighted')"
   ]
  },
  {
   "cell_type": "code",
   "execution_count": null,
   "metadata": {},
   "outputs": [],
   "source": []
  }
 ],
 "metadata": {
  "kernelspec": {
   "display_name": "Python [default]",
   "language": "python",
   "name": "python3"
  },
  "language_info": {
   "codemirror_mode": {
    "name": "ipython",
    "version": 3
   },
   "file_extension": ".py",
   "mimetype": "text/x-python",
   "name": "python",
   "nbconvert_exporter": "python",
   "pygments_lexer": "ipython3",
   "version": "3.6.4"
  }
 },
 "nbformat": 4,
 "nbformat_minor": 2
}
